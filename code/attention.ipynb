{
 "cells": [
  {
   "cell_type": "code",
   "execution_count": 51,
   "metadata": {},
   "outputs": [],
   "source": [
    "import utils\n",
    "from keras.utils import to_categorical\n",
    "from keras.preprocessing.sequence import pad_sequences\n",
    "import pandas as pd"
   ]
  },
  {
   "cell_type": "code",
   "execution_count": 169,
   "metadata": {},
   "outputs": [],
   "source": [
    "vocab_size = 2000\n",
    "train_size = 1000\n",
    "\n",
    "# get the data set vocabulary\n",
    "vocab = pd.read_table(\"../data/vocab.wiki.txt\", header=None, sep=\"\\s+\", index_col=0, names=['count', 'freq'], )\n",
    "num_to_word = dict(enumerate(vocab.index[:vocab_size]))\n",
    "word_to_num = utils.invert_dict(num_to_word)\n",
    "\n",
    "data_train = utils.load_np_dataset('../data/wiki-train.txt')\n",
    "data_test = utils.load_np_dataset('../data/wiki-test.txt')"
   ]
  },
  {
   "cell_type": "code",
   "execution_count": 200,
   "metadata": {},
   "outputs": [],
   "source": [
    "def process_data(data):\n",
    "    y = [sent[0] for sent in data]\n",
    "    x = [sent[1:] for sent in data]\n",
    "\n",
    "    x_ = []\n",
    "    for s in x:\n",
    "        x_.append([word_to_num.get(w, word_to_num['UNK'])+1 for w in s])\n",
    "\n",
    "    y_ = []\n",
    "    for l in y:\n",
    "        y_.append(0 if l == 'VBZ' else 1)\n",
    "\n",
    "    x_ = pad_sequences(x_, maxlen=50)\n",
    "    return x_, y_\n",
    "\n",
    "x_train, y_train = process_data(data_train)\n",
    "x_test, y_test = process_data(data_test)"
   ]
  },
  {
   "cell_type": "code",
   "execution_count": 201,
   "metadata": {
    "scrolled": true
   },
   "outputs": [
    {
     "data": {
      "text/plain": [
       "((50000, 50), (4000, 50))"
      ]
     },
     "execution_count": 201,
     "metadata": {},
     "output_type": "execute_result"
    }
   ],
   "source": [
    "x_train.shape, x_test.shape"
   ]
  },
  {
   "cell_type": "code",
   "execution_count": 311,
   "metadata": {
    "scrolled": false
   },
   "outputs": [
    {
     "name": "stdout",
     "output_type": "stream",
     "text": [
      "_________________________________________________________________\n",
      "Layer (type)                 Output Shape              Param #   \n",
      "=================================================================\n",
      "input_42 (InputLayer)        (None, 50)                0         \n",
      "_________________________________________________________________\n",
      "embed (Embedding)            (None, 50, 200)           400200    \n",
      "_________________________________________________________________\n",
      "bidirectional (Bidirectional (None, 50, 200)           240800    \n",
      "_________________________________________________________________\n",
      "att (AttentionWithContext)   (None, 200)               40400     \n",
      "_________________________________________________________________\n",
      "dropout_53 (Dropout)         (None, 200)               0         \n",
      "_________________________________________________________________\n",
      "dense_53 (Dense)             (None, 1)                 201       \n",
      "=================================================================\n",
      "Total params: 681,601\n",
      "Trainable params: 681,601\n",
      "Non-trainable params: 0\n",
      "_________________________________________________________________\n"
     ]
    }
   ],
   "source": [
    "from keras.models import Sequential, Model\n",
    "from keras.layers import Dense, Dropout, Layer\n",
    "from keras.layers import Embedding, Input\n",
    "from keras.layers import LSTM, Bidirectional\n",
    "\n",
    "from keras import initializers, regularizers, constraints\n",
    "from keras import backend as K\n",
    "from keras.callbacks import ModelCheckpoint, EarlyStopping\n",
    "import os\n",
    "import numpy as np\n",
    "\n",
    "'''\n",
    "Adapted from gist: https://gist.github.com/cbaziotis/7ef97ccf71cbc14366835198c09809d2\n",
    "'''\n",
    "def dot_product(x, kernel):\n",
    "    \"\"\"\n",
    "    Wrapper for dot product operation, in order to be compatible with both\n",
    "    Theano and Tensorflow\n",
    "    Args:\n",
    "        x (): input\n",
    "        kernel (): weights\n",
    "    Returns:\n",
    "    \"\"\"\n",
    "    if K.backend() == 'tensorflow':\n",
    "        return K.squeeze(K.dot(x, K.expand_dims(kernel)), axis=-1)\n",
    "    else:\n",
    "        return K.dot(x, kernel)\n",
    "\n",
    "    \n",
    "class AttentionWithContext(Layer):\n",
    "    \"\"\"\n",
    "    Attention operation, with a context/query vector, for temporal data.\n",
    "    Supports Masking.\n",
    "    Follows the work of Yang et al. [https://www.cs.cmu.edu/~diyiy/docs/naacl16.pdf]\n",
    "    \"Hierarchical Attention Networks for Document Classification\"\n",
    "    by using a context vector to assist the attention\n",
    "    # Input shape\n",
    "        3D tensor with shape: `(samples, steps, features)`.\n",
    "    # Output shape\n",
    "        2D tensor with shape: `(samples, features)`.\n",
    "    How to use:\n",
    "    Just put it on top of an RNN Layer (GRU/LSTM/SimpleRNN) with return_sequences=True.\n",
    "    The dimensions are inferred based on the output shape of the RNN.\n",
    "    Note: The layer has been tested with Keras 2.0.6\n",
    "    Example:\n",
    "        model.add(LSTM(64, return_sequences=True))\n",
    "        model.add(AttentionWithContext())\n",
    "        # next add a Dense layer (for classification/regression) or whatever...\n",
    "    \"\"\"\n",
    "\n",
    "    def __init__(self, return_attention=False,\n",
    "                 W_regularizer=None, u_regularizer=None, b_regularizer=None,\n",
    "                 W_constraint=None, u_constraint=None, b_constraint=None,\n",
    "                 bias=True, **kwargs):\n",
    "\n",
    "        self.supports_masking = True\n",
    "        self.init = initializers.get('glorot_uniform')\n",
    "\n",
    "        self.W_regularizer = regularizers.get(W_regularizer)\n",
    "        self.u_regularizer = regularizers.get(u_regularizer)\n",
    "        self.b_regularizer = regularizers.get(b_regularizer)\n",
    "\n",
    "        self.W_constraint = constraints.get(W_constraint)\n",
    "        self.u_constraint = constraints.get(u_constraint)\n",
    "        self.b_constraint = constraints.get(b_constraint)\n",
    "        \n",
    "        self.return_attention = return_attention\n",
    "\n",
    "        self.bias = bias\n",
    "        super(AttentionWithContext, self).__init__(**kwargs)\n",
    "\n",
    "    def build(self, input_shape):\n",
    "        assert len(input_shape) == 3\n",
    "\n",
    "        self.W = self.add_weight((input_shape[-1], input_shape[-1],),\n",
    "                                 initializer=self.init,\n",
    "                                 name='{}_W'.format(self.name),\n",
    "                                 regularizer=self.W_regularizer,\n",
    "                                 constraint=self.W_constraint)\n",
    "        if self.bias:\n",
    "            self.b = self.add_weight((input_shape[-1],),\n",
    "                                     initializer='zero',\n",
    "                                     name='{}_b'.format(self.name),\n",
    "                                     regularizer=self.b_regularizer,\n",
    "                                     constraint=self.b_constraint)\n",
    "\n",
    "        self.u = self.add_weight((input_shape[-1],),\n",
    "                                 initializer=self.init,\n",
    "                                 name='{}_u'.format(self.name),\n",
    "                                 regularizer=self.u_regularizer,\n",
    "                                 constraint=self.u_constraint)\n",
    "\n",
    "        super(AttentionWithContext, self).build(input_shape)\n",
    "\n",
    "    def compute_mask(self, input, input_mask=None):\n",
    "        # do not pass the mask to the next layers\n",
    "        return None\n",
    "\n",
    "    def call(self, x, mask=None):\n",
    "        uit = dot_product(x, self.W)\n",
    "\n",
    "        if self.bias:\n",
    "            uit += self.b\n",
    "\n",
    "        uit = K.tanh(uit)\n",
    "        #ait = K.dot(uit, self.u)\n",
    "        ait = dot_product(uit, self.u)\n",
    "\n",
    "        a = K.exp(ait)\n",
    "\n",
    "        # apply mask after the exp. will be re-normalized next\n",
    "        if mask is not None:\n",
    "            # Cast the mask to floatX to avoid float64 upcasting in theano\n",
    "            a *= K.cast(mask, K.floatx())\n",
    "\n",
    "        # in some cases especially in the early stages of training the sum may be almost zero\n",
    "        # and this results in NaN's. A workaround is to add a very small positive number ε to the sum.\n",
    "        # a /= K.cast(K.sum(a, axis=1, keepdims=True), K.floatx())\n",
    "        a /= K.cast(K.sum(a, axis=1, keepdims=True) + K.epsilon(), K.floatx())\n",
    "\n",
    "        a = K.expand_dims(a)\n",
    "        weighted_input = x * a\n",
    "        weighted_input = K.sum(weighted_input, axis=1)\n",
    "        \n",
    "        if self.return_attention:\n",
    "            return [weighted_input, a]\n",
    "        return weighted_input\n",
    "\n",
    "    def compute_output_shape(self, input_shape):\n",
    "        #return input_shape[0], input_shape[-1]\n",
    "        output_len = input_shape[-1]\n",
    "        if self.return_attention:\n",
    "            return [(input_shape[0], output_len), (input_shape[0], input_shape[1])]\n",
    "        return (input_shape[0], output_len)\n",
    "    \n",
    "\n",
    "def get_model(max_length, vocab_size, trainable=True, \n",
    "              embedding_trainable=True,\n",
    "              hidden_dim=100, return_attention=False):\n",
    "    \n",
    "    '''model = Sequential()\n",
    "    model.add(Embedding(vocab_size, output_dim=256, \n",
    "                        trainable=embedding_trainable))\n",
    "    model.add(LSTM(100, return_sequences=True, trainable=trainable))\n",
    "    model.add(AttentionWithContext(name='att', trainable=trainable))\n",
    "    model.add(Dropout(0.5))\n",
    "    model.add(Dense(1, activation='sigmoid', trainable=trainable))'''\n",
    "    \n",
    "    input_ = Input(shape=(max_length,), dtype='float32')\n",
    "    input_embed = Embedding(vocab_size+1, output_dim=200, mask_zero=True,\n",
    "                            trainable=embedding_trainable,\n",
    "                            name='embed')(input_)\n",
    "\n",
    "    rnn_encoded = Bidirectional(LSTM(hidden_dim, return_sequences=True),\n",
    "                                name='bidirectional',\n",
    "                                merge_mode='concat',\n",
    "                                trainable=trainable)(input_embed)\n",
    "    '''rnn_encoded = LSTM(hidden_dim, return_sequences=True, \n",
    "                       trainable=trainable)(input_embed)'''\n",
    "\n",
    "    x = AttentionWithContext(name='att', \n",
    "                             return_attention=return_attention,\n",
    "                             trainable=trainable)(rnn_encoded)\n",
    "    att = x\n",
    "    if return_attention:\n",
    "        x, att = x\n",
    "    \n",
    "    if trainable:\n",
    "        dropout = 0.5\n",
    "    else:\n",
    "        dropout = 1.\n",
    "        \n",
    "    drop = Dropout(dropout)(x)\n",
    "    y_hat = Dense(1, activation='sigmoid', trainable=trainable)(drop)\n",
    "    outputs = [y_hat]\n",
    "    \n",
    "    if return_attention:\n",
    "        outputs.append(att)\n",
    "    \n",
    "    model = Model(inputs=input_, outputs=outputs)\n",
    "    model.summary()\n",
    "    return model\n",
    "\n",
    "model = get_model(50, vocab_size)\n",
    "model.compile(loss='binary_crossentropy',\n",
    "              optimizer='rmsprop',\n",
    "              metrics=['accuracy'])\n",
    "\n",
    "cp = ModelCheckpoint(\"../models/attention.{epoch:02d}-{val_loss:.2f}.hdf5\",\n",
    "                     monitor='val_loss',\n",
    "                     verbose=0,\n",
    "                     save_best_only=True,\n",
    "                     save_weights_only=True,\n",
    "                     mode='auto')\n",
    "es = EarlyStopping(monitor='val_loss', patience=3)\n",
    "\n",
    "# create a directory if it doesn't already exist\n",
    "if not os.path.exists('../models'):\n",
    "    os.makedirs('../models/')\n",
    "\n",
    "train_size = 25000\n",
    "model.fit(x_train[:train_size], y_train[:train_size], batch_size=16, epochs=10,\n",
    "          callbacks=[cp, es], validation_split=.1)\n",
    "score = model.evaluate(x_test, y_test, batch_size=16)"
   ]
  },
  {
   "cell_type": "code",
   "execution_count": 312,
   "metadata": {},
   "outputs": [
    {
     "name": "stdout",
     "output_type": "stream",
     "text": [
      "Weights loading from: ../models/attention.25000.hdf5\n",
      "Loading models\n",
      "_________________________________________________________________\n",
      "Layer (type)                 Output Shape              Param #   \n",
      "=================================================================\n",
      "input_43 (InputLayer)        (None, 50)                0         \n",
      "_________________________________________________________________\n",
      "embed (Embedding)            (None, 50, 200)           400200    \n",
      "_________________________________________________________________\n",
      "bidirectional (Bidirectional (None, 50, 200)           240800    \n",
      "_________________________________________________________________\n",
      "att (AttentionWithContext)   (None, 200)               40400     \n",
      "_________________________________________________________________\n",
      "dropout_54 (Dropout)         (None, 200)               0         \n",
      "_________________________________________________________________\n",
      "dense_54 (Dense)             (None, 1)                 201       \n",
      "=================================================================\n",
      "Total params: 681,601\n",
      "Trainable params: 0\n",
      "Non-trainable params: 681,601\n",
      "_________________________________________________________________\n",
      "_________________________________________________________________\n",
      "Layer (type)                 Output Shape              Param #   \n",
      "=================================================================\n",
      "input_44 (InputLayer)        (None, 50)                0         \n",
      "_________________________________________________________________\n",
      "embed (Embedding)            (None, 50, 200)           400200    \n",
      "_________________________________________________________________\n",
      "bidirectional (Bidirectional (None, 50, 200)           240800    \n",
      "_________________________________________________________________\n",
      "att (AttentionWithContext)   [(None, 200), (None, 50)] 40400     \n",
      "_________________________________________________________________\n",
      "dropout_55 (Dropout)         (None, 200)               0         \n",
      "_________________________________________________________________\n",
      "dense_55 (Dense)             (None, 1)                 201       \n",
      "=================================================================\n",
      "Total params: 681,601\n",
      "Trainable params: 0\n",
      "Non-trainable params: 681,601\n",
      "_________________________________________________________________\n"
     ]
    }
   ],
   "source": [
    "weights_file = '../models/attention.25000.hdf5'\n",
    "print('Weights loading from:', weights_file)\n",
    "\n",
    "print('Loading models')\n",
    "pred_model = get_model(50, vocab_size, trainable=False,\n",
    "                      embedding_trainable=False,\n",
    "                      return_attention=False)\n",
    "\n",
    "pred_model.load_weights(weights_file, by_name=True)\n",
    "pred_model.compile(loss='binary_crossentropy',\n",
    "                   optimizer='rmsprop',\n",
    "                   metrics=['accuracy'])\n",
    "\n",
    "att_model = get_model(50, vocab_size, trainable=False,\n",
    "                      embedding_trainable=False,\n",
    "                      return_attention=True)\n",
    "\n",
    "att_model.load_weights(weights_file, by_name=True)\n"
   ]
  },
  {
   "cell_type": "code",
   "execution_count": 317,
   "metadata": {
    "scrolled": false
   },
   "outputs": [
    {
     "name": "stdout",
     "output_type": "stream",
     "text": [
      "Sentence:  this is when small particles VBP\n",
      "Attention: [  5.16741420e-05   2.16892704e-06   5.68932137e-06   1.90991573e-02\n",
      "   9.80841219e-01]\n",
      "Prediction: VBP\n",
      "Sentence:  his real name VBZ\n",
      "Attention: [ 0.16307743  0.00697914  0.82994342]\n",
      "Prediction: VBP\n",
      "Sentence:  the year VBZ\n",
      "Attention: [ 0.78978533  0.2102142 ]\n",
      "Prediction: VBZ\n",
      "Sentence:  NNP ( lack of NN ) VBZ\n",
      "Attention: [ 0.03721301  0.03612791  0.89390546  0.02222688  0.00153639  0.00898262]\n",
      "Prediction: VBP\n",
      "Sentence:  the picture VBZ\n",
      "Attention: [ 0.60146236  0.3985374 ]\n",
      "Prediction: VBZ\n",
      "Sentence:  the material on caesar VBZ\n",
      "Attention: [ 0.61508089  0.37296653  0.0086765   0.00327595]\n",
      "Prediction: VBZ\n",
      "Sentence:  may my [ brother ] let my NNS VBP\n",
      "Attention: [  4.51011001e-05   1.17332624e-04   7.43764467e-05   1.70000829e-04\n",
      "   6.42177532e-04   9.19625759e-01   2.70856414e-02   5.22388965e-02]\n",
      "Prediction: VBP\n",
      "Sentence:  another negative NN VBZ\n",
      "Attention: [  9.96173918e-01   3.67449073e-04   3.45854554e-03]\n",
      "Prediction: VBZ\n",
      "Sentence:  the town of NNP de NNP VBZ\n",
      "Attention: [  8.56788680e-02   8.89618099e-01   2.35957615e-02   3.79220728e-04\n",
      "   3.06896196e-04   4.20809229e-04]\n",
      "Prediction: VBZ\n",
      "Sentence:  time and time again '' VBZ\n",
      "Attention: [ 0.70650923  0.00183567  0.15682486  0.00217177  0.13264835]\n",
      "Prediction: VBZ\n"
     ]
    },
    {
     "data": {
      "image/png": "[encoded data removed]",
      "text/plain": [
       "<Figure size 720x72 with 1 Axes>"
      ]
     },
     "metadata": {},
     "output_type": "display_data"
    },
    {
     "data": {
      "image/png": "[encoded data removed]",
      "text/plain": [
       "<Figure size 720x72 with 1 Axes>"
      ]
     },
     "metadata": {},
     "output_type": "display_data"
    },
    {
     "data": {
      "image/png": "[encoded data removed]",
      "text/plain": [
       "<Figure size 720x72 with 1 Axes>"
      ]
     },
     "metadata": {},
     "output_type": "display_data"
    },
    {
     "data": {
      "image/png": "[encoded data removed]",
      "text/plain": [
       "<Figure size 720x72 with 1 Axes>"
      ]
     },
     "metadata": {},
     "output_type": "display_data"
    },
    {
     "data": {
      "image/png": "[encoded data removed]",
      "text/plain": [
       "<Figure size 720x72 with 1 Axes>"
      ]
     },
     "metadata": {},
     "output_type": "display_data"
    },
    {
     "data": {
      "image/png": "[encoded data removed]",
      "text/plain": [
       "<Figure size 720x72 with 1 Axes>"
      ]
     },
     "metadata": {},
     "output_type": "display_data"
    },
    {
     "data": {
      "image/png": "[encoded data removed]",
      "text/plain": [
       "<Figure size 720x72 with 1 Axes>"
      ]
     },
     "metadata": {},
     "output_type": "display_data"
    },
    {
     "data": {
      "image/png": "[encoded data removed]",
      "text/plain": [
       "<Figure size 720x72 with 1 Axes>"
      ]
     },
     "metadata": {},
     "output_type": "display_data"
    },
    {
     "data": {
      "image/png": "[encoded data removed]",
      "text/plain": [
       "<Figure size 720x72 with 1 Axes>"
      ]
     },
     "metadata": {},
     "output_type": "display_data"
    },
    {
     "data": {
      "image/png": "[encoded data removed]",
      "text/plain": [
       "<Figure size 720x72 with 1 Axes>"
      ]
     },
     "metadata": {},
     "output_type": "display_data"
    }
   ],
   "source": [
    "import matplotlib.pyplot as plt\n",
    "%matplotlib inline\n",
    "\n",
    "def visualize_attention(text, att_weights):\n",
    "    \n",
    "    activation_map = np.transpose(np.expand_dims(att_weights, axis=1))\n",
    "\n",
    "    #plt.clf()\n",
    "    f = plt.figure(figsize=(10, 1))\n",
    "    ax = f.add_subplot(1, 1, 1)\n",
    "\n",
    "    # add image\n",
    "    i = ax.imshow(activation_map, aspect='auto',\n",
    "                  interpolation='nearest', cmap='gray')\n",
    "\n",
    "    # add colorbar\n",
    "    #cbaxes = f.add_axes([0.2, 0.3, 0.6, 0.03])\n",
    "    cbar = f.colorbar(i, cax=cbaxes, orientation='horizontal')\n",
    "    cbar.ax.set_xlabel('Probability', labelpad=2)\n",
    "\n",
    "    # add labels\n",
    "    ax.set_ylim(0,.1)\n",
    "    ax.set_xlim(0,1)\n",
    "    ax.set_yticks([], [])\n",
    "    #ax.set_yticks(range(output_length))\n",
    "    #ax.set_yticklabels(predicted_text[:output_length])\n",
    "\n",
    "    ax.set_xticks(range(len(text)))\n",
    "    ax.set_xticklabels(text)\n",
    "\n",
    "    #_ = ax.set_xlabel('Sentence')\n",
    "\n",
    "    # add grid and legend\n",
    "    #ax.grid()\n",
    "    # ax.legend(loc='best')\n",
    "\n",
    "    #f.savefig(os.path.join(HERE, 'attention_maps', text.replace('/', '')+'.pdf'), bbox_inches='tight')\n",
    "    #f.show()\n",
    "\n",
    "\n",
    "np.random.seed(11)\n",
    "samples = np.random.choice(x_test.shape[0], 1000)\n",
    "counts = [0, 0, 0, 0, 0, 0]\n",
    "for i in samples:\n",
    "    text = data_test[i][1:]\n",
    "    if len(text) > 10:\n",
    "        continue\n",
    "    \n",
    "    pred, att = att_model.predict(np.expand_dims(x_test[i], axis=0))\n",
    "    pred_str = 'VBP' if pred.ravel()[0] < .5 else 'VBZ'\n",
    "    \n",
    "    att = att[0,-len(text):].ravel()\n",
    "    verb_dist = len(att) - np.argmax(att)\n",
    "    \n",
    "    if verb_dist < len(counts) and counts[verb_dist] < 2:\n",
    "        counts[verb_dist] += 1\n",
    "    \n",
    "        print('Sentence: ', *[w for w in text], data_test[i][0])\n",
    "        print('Attention:', att)\n",
    "        print('Prediction:', pred_str)\n",
    "\n",
    "        visualize_attention(text, att)"
   ]
  },
  {
   "cell_type": "code",
   "execution_count": 313,
   "metadata": {},
   "outputs": [
    {
     "name": "stdout",
     "output_type": "stream",
     "text": [
      "4000/4000 [==============================] - 8s 2ms/step\n"
     ]
    },
    {
     "data": {
      "text/plain": [
       "[0.5808403358459473, 0.90549999999999997]"
      ]
     },
     "execution_count": 313,
     "metadata": {},
     "output_type": "execute_result"
    }
   ],
   "source": [
    "score = pred_model.evaluate(x_test, y_test, batch_size=16)\n",
    "score"
   ]
  },
  {
   "cell_type": "code",
   "execution_count": null,
   "metadata": {},
   "outputs": [],
   "source": []
  }
 ],
 "metadata": {
  "kernelspec": {
   "display_name": "Python [conda env:nlu]",
   "language": "python",
   "name": "conda-env-nlu-py"
  },
  "language_info": {
   "codemirror_mode": {
    "name": "ipython",
    "version": 3
   },
   "file_extension": ".py",
   "mimetype": "text/x-python",
   "name": "python",
   "nbconvert_exporter": "python",
   "pygments_lexer": "ipython3",
   "version": "3.6.4"
  }
 },
 "nbformat": 4,
 "nbformat_minor": 2
}
