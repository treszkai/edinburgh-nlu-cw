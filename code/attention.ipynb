{
 "cells": [
  {
   "cell_type": "code",
   "execution_count": 51,
   "metadata": {},
   "outputs": [],
   "source": [
    "import utils\n",
    "from keras.utils import to_categorical\n",
    "from keras.preprocessing.sequence import pad_sequences\n",
    "import pandas as pd"
   ]
  },
  {
   "cell_type": "code",
   "execution_count": 169,
   "metadata": {},
   "outputs": [],
   "source": [
    "vocab_size = 2000\n",
    "train_size = 1000\n",
    "\n",
    "# get the data set vocabulary\n",
    "vocab = pd.read_table(\"../data/vocab.wiki.txt\", header=None, sep=\"\\s+\", index_col=0, names=['count', 'freq'], )\n",
    "num_to_word = dict(enumerate(vocab.index[:vocab_size]))\n",
    "word_to_num = utils.invert_dict(num_to_word)\n",
    "\n",
    "data_train = utils.load_np_dataset('../data/wiki-train.txt')\n",
    "data_test = utils.load_np_dataset('../data/wiki-test.txt')"
   ]
  },
  {
   "cell_type": "code",
   "execution_count": 200,
   "metadata": {},
   "outputs": [],
   "source": [
    "def process_data(data):\n",
    "    y = [sent[0] for sent in data]\n",
    "    x = [sent[1:] for sent in data]\n",
    "\n",
    "    x_ = []\n",
    "    for s in x:\n",
    "        x_.append([word_to_num.get(w, word_to_num['UNK'])+1 for w in s])\n",
    "\n",
    "    y_ = []\n",
    "    for l in y:\n",
    "        y_.append(0 if l == 'VBZ' else 1)\n",
    "\n",
    "    x_ = pad_sequences(x_, maxlen=50)\n",
    "    return x_, y_\n",
    "\n",
    "x_train, y_train = process_data(data_train)\n",
    "x_test, y_test = process_data(data_test)"
   ]
  },
  {
   "cell_type": "code",
   "execution_count": 201,
   "metadata": {
    "scrolled": true
   },
   "outputs": [
    {
     "data": {
      "text/plain": [
       "((50000, 50), (4000, 50))"
      ]
     },
     "execution_count": 201,
     "metadata": {},
     "output_type": "execute_result"
    }
   ],
   "source": [
    "x_train.shape, x_test.shape"
   ]
  },
  {
   "cell_type": "code",
   "execution_count": 213,
   "metadata": {
    "scrolled": false
   },
   "outputs": [
    {
     "name": "stdout",
     "output_type": "stream",
     "text": [
      "_________________________________________________________________\n",
      "Layer (type)                 Output Shape              Param #   \n",
      "=================================================================\n",
      "input_31 (InputLayer)        (None, 50)                0         \n",
      "_________________________________________________________________\n",
      "embed (Embedding)            (None, 50, 200)           400200    \n",
      "_________________________________________________________________\n",
      "bidirectional (Bidirectional (None, 50, 200)           240800    \n",
      "_________________________________________________________________\n",
      "att (AttentionWithContext)   (None, 200)               40400     \n",
      "_________________________________________________________________\n",
      "dropout_42 (Dropout)         (None, 200)               0         \n",
      "_________________________________________________________________\n",
      "dense_42 (Dense)             (None, 1)                 201       \n",
      "=================================================================\n",
      "Total params: 681,601\n",
      "Trainable params: 681,601\n",
      "Non-trainable params: 0\n",
      "_________________________________________________________________\n",
      "Train on 22500 samples, validate on 2500 samples\n",
      "Epoch 1/10\n",
      "22500/22500 [==============================] - 206s 9ms/step - loss: 0.3267 - acc: 0.8635 - val_loss: 0.2190 - val_acc: 0.9128\n",
      "Epoch 2/10\n",
      "22500/22500 [==============================] - 206s 9ms/step - loss: 0.2046 - acc: 0.9122 - val_loss: 0.1794 - val_acc: 0.9220\n",
      "Epoch 3/10\n",
      "22500/22500 [==============================] - 205s 9ms/step - loss: 0.1745 - acc: 0.9254 - val_loss: 0.1943 - val_acc: 0.9176\n",
      "Epoch 4/10\n",
      "22500/22500 [==============================] - 207s 9ms/step - loss: 0.1576 - acc: 0.9319 - val_loss: 0.1879 - val_acc: 0.9232\n",
      "Epoch 5/10\n",
      "22500/22500 [==============================] - 207s 9ms/step - loss: 0.1516 - acc: 0.9342 - val_loss: 0.1657 - val_acc: 0.9328\n",
      "Epoch 6/10\n",
      "22500/22500 [==============================] - 203s 9ms/step - loss: 0.1371 - acc: 0.9393 - val_loss: 0.1796 - val_acc: 0.9324\n",
      "Epoch 7/10\n",
      "22500/22500 [==============================] - 202s 9ms/step - loss: 0.1312 - acc: 0.9444 - val_loss: 0.1924 - val_acc: 0.9284\n",
      "Epoch 8/10\n",
      "22500/22500 [==============================] - 202s 9ms/step - loss: 0.1262 - acc: 0.9460 - val_loss: 0.1971 - val_acc: 0.9256\n"
     ]
    },
    {
     "data": {
      "text/plain": [
       "<keras.callbacks.History at 0x167437f98>"
      ]
     },
     "execution_count": 213,
     "metadata": {},
     "output_type": "execute_result"
    }
   ],
   "source": [
    "from keras.models import Sequential, Model\n",
    "from keras.layers import Dense, Dropout, Layer\n",
    "from keras.layers import Embedding, Input\n",
    "from keras.layers import LSTM, Bidirectional\n",
    "\n",
    "from keras import initializers, regularizers, constraints\n",
    "from keras import backend as K\n",
    "from keras.callbacks import ModelCheckpoint, EarlyStopping\n",
    "import os\n",
    "import numpy as np\n",
    "\n",
    "'''\n",
    "Adapted from gist: https://gist.github.com/cbaziotis/7ef97ccf71cbc14366835198c09809d2\n",
    "'''\n",
    "def dot_product(x, kernel):\n",
    "    \"\"\"\n",
    "    Wrapper for dot product operation, in order to be compatible with both\n",
    "    Theano and Tensorflow\n",
    "    Args:\n",
    "        x (): input\n",
    "        kernel (): weights\n",
    "    Returns:\n",
    "    \"\"\"\n",
    "    if K.backend() == 'tensorflow':\n",
    "        return K.squeeze(K.dot(x, K.expand_dims(kernel)), axis=-1)\n",
    "    else:\n",
    "        return K.dot(x, kernel)\n",
    "\n",
    "    \n",
    "class AttentionWithContext(Layer):\n",
    "    \"\"\"\n",
    "    Attention operation, with a context/query vector, for temporal data.\n",
    "    Supports Masking.\n",
    "    Follows the work of Yang et al. [https://www.cs.cmu.edu/~diyiy/docs/naacl16.pdf]\n",
    "    \"Hierarchical Attention Networks for Document Classification\"\n",
    "    by using a context vector to assist the attention\n",
    "    # Input shape\n",
    "        3D tensor with shape: `(samples, steps, features)`.\n",
    "    # Output shape\n",
    "        2D tensor with shape: `(samples, features)`.\n",
    "    How to use:\n",
    "    Just put it on top of an RNN Layer (GRU/LSTM/SimpleRNN) with return_sequences=True.\n",
    "    The dimensions are inferred based on the output shape of the RNN.\n",
    "    Note: The layer has been tested with Keras 2.0.6\n",
    "    Example:\n",
    "        model.add(LSTM(64, return_sequences=True))\n",
    "        model.add(AttentionWithContext())\n",
    "        # next add a Dense layer (for classification/regression) or whatever...\n",
    "    \"\"\"\n",
    "\n",
    "    def __init__(self, return_attention=False,\n",
    "                 W_regularizer=None, u_regularizer=None, b_regularizer=None,\n",
    "                 W_constraint=None, u_constraint=None, b_constraint=None,\n",
    "                 bias=True, **kwargs):\n",
    "\n",
    "        self.supports_masking = True\n",
    "        self.init = initializers.get('glorot_uniform')\n",
    "\n",
    "        self.W_regularizer = regularizers.get(W_regularizer)\n",
    "        self.u_regularizer = regularizers.get(u_regularizer)\n",
    "        self.b_regularizer = regularizers.get(b_regularizer)\n",
    "\n",
    "        self.W_constraint = constraints.get(W_constraint)\n",
    "        self.u_constraint = constraints.get(u_constraint)\n",
    "        self.b_constraint = constraints.get(b_constraint)\n",
    "        \n",
    "        self.return_attention = return_attention\n",
    "\n",
    "        self.bias = bias\n",
    "        super(AttentionWithContext, self).__init__(**kwargs)\n",
    "\n",
    "    def build(self, input_shape):\n",
    "        assert len(input_shape) == 3\n",
    "\n",
    "        self.W = self.add_weight((input_shape[-1], input_shape[-1],),\n",
    "                                 initializer=self.init,\n",
    "                                 name='{}_W'.format(self.name),\n",
    "                                 regularizer=self.W_regularizer,\n",
    "                                 constraint=self.W_constraint)\n",
    "        if self.bias:\n",
    "            self.b = self.add_weight((input_shape[-1],),\n",
    "                                     initializer='zero',\n",
    "                                     name='{}_b'.format(self.name),\n",
    "                                     regularizer=self.b_regularizer,\n",
    "                                     constraint=self.b_constraint)\n",
    "\n",
    "        self.u = self.add_weight((input_shape[-1],),\n",
    "                                 initializer=self.init,\n",
    "                                 name='{}_u'.format(self.name),\n",
    "                                 regularizer=self.u_regularizer,\n",
    "                                 constraint=self.u_constraint)\n",
    "\n",
    "        super(AttentionWithContext, self).build(input_shape)\n",
    "\n",
    "    def compute_mask(self, input, input_mask=None):\n",
    "        # do not pass the mask to the next layers\n",
    "        return None\n",
    "\n",
    "    def call(self, x, mask=None):\n",
    "        uit = dot_product(x, self.W)\n",
    "\n",
    "        if self.bias:\n",
    "            uit += self.b\n",
    "\n",
    "        uit = K.tanh(uit)\n",
    "        #ait = K.dot(uit, self.u)\n",
    "        ait = dot_product(uit, self.u)\n",
    "\n",
    "        a = K.exp(ait)\n",
    "\n",
    "        # apply mask after the exp. will be re-normalized next\n",
    "        if mask is not None:\n",
    "            # Cast the mask to floatX to avoid float64 upcasting in theano\n",
    "            a *= K.cast(mask, K.floatx())\n",
    "\n",
    "        # in some cases especially in the early stages of training the sum may be almost zero\n",
    "        # and this results in NaN's. A workaround is to add a very small positive number ε to the sum.\n",
    "        # a /= K.cast(K.sum(a, axis=1, keepdims=True), K.floatx())\n",
    "        a /= K.cast(K.sum(a, axis=1, keepdims=True) + K.epsilon(), K.floatx())\n",
    "\n",
    "        a = K.expand_dims(a)\n",
    "        weighted_input = x * a\n",
    "        weighted_input = K.sum(weighted_input, axis=1)\n",
    "        \n",
    "        if self.return_attention:\n",
    "            return [weighted_input, a]\n",
    "        return weighted_input\n",
    "\n",
    "    def compute_output_shape(self, input_shape):\n",
    "        #return input_shape[0], input_shape[-1]\n",
    "        output_len = input_shape[-1]\n",
    "        if self.return_attention:\n",
    "            return [(input_shape[0], output_len), (input_shape[0], input_shape[1])]\n",
    "        return (input_shape[0], output_len)\n",
    "    \n",
    "\n",
    "def get_model(max_length, vocab_size, trainable=True, \n",
    "              embedding_trainable=True,\n",
    "              hidden_dim=100, return_attention=False):\n",
    "    \n",
    "    '''model = Sequential()\n",
    "    model.add(Embedding(vocab_size, output_dim=256, \n",
    "                        trainable=embedding_trainable))\n",
    "    model.add(LSTM(100, return_sequences=True, trainable=trainable))\n",
    "    model.add(AttentionWithContext(name='att', trainable=trainable))\n",
    "    model.add(Dropout(0.5))\n",
    "    model.add(Dense(1, activation='sigmoid', trainable=trainable))'''\n",
    "    \n",
    "    input_ = Input(shape=(max_length,), dtype='float32')\n",
    "    input_embed = Embedding(vocab_size+1, output_dim=200, mask_zero=True,\n",
    "                            trainable=embedding_trainable,\n",
    "                            name='embed')(input_)\n",
    "\n",
    "    rnn_encoded = Bidirectional(LSTM(hidden_dim, return_sequences=True),\n",
    "                                name='bidirectional',\n",
    "                                merge_mode='concat',\n",
    "                                trainable=trainable)(input_embed)\n",
    "    '''rnn_encoded = LSTM(hidden_dim, return_sequences=True, \n",
    "                       trainable=trainable)(input_embed)'''\n",
    "\n",
    "    x = AttentionWithContext(name='att', \n",
    "                             return_attention=return_attention,\n",
    "                             trainable=trainable)(rnn_encoded)\n",
    "    att = x\n",
    "    if return_attention:\n",
    "        x, att = x\n",
    "    \n",
    "    drop = Dropout(0.5)(x)\n",
    "    y_hat = Dense(1, activation='sigmoid', trainable=trainable)(drop)\n",
    "    outputs = [y_hat]\n",
    "    \n",
    "    if return_attention:\n",
    "        outputs.append(att)\n",
    "    \n",
    "    model = Model(inputs=input_, outputs=outputs)\n",
    "    model.summary()\n",
    "    return model\n",
    "\n",
    "model = get_model(50, vocab_size)\n",
    "model.compile(loss='binary_crossentropy',\n",
    "              optimizer='rmsprop',\n",
    "              metrics=['accuracy'])\n",
    "\n",
    "cp = ModelCheckpoint(\"../models/attention.{epoch:02d}-{val_loss:.2f}.hdf5\",\n",
    "                     monitor='val_loss',\n",
    "                     verbose=0,\n",
    "                     save_best_only=True,\n",
    "                     save_weights_only=True,\n",
    "                     mode='auto')\n",
    "es = EarlyStopping(monitor='val_loss', patience=3)\n",
    "\n",
    "# create a directory if it doesn't already exist\n",
    "if not os.path.exists('../models'):\n",
    "    os.makedirs('../models/')\n",
    "\n",
    "train_size = 25000\n",
    "model.fit(x_train[:train_size], y_train[:train_size], batch_size=16, epochs=10,\n",
    "          callbacks=[cp, es], validation_split=.1)\n",
    "score = model.evaluate(x_test, y_test, batch_size=16)"
   ]
  },
  {
   "cell_type": "code",
   "execution_count": 214,
   "metadata": {},
   "outputs": [
    {
     "name": "stdout",
     "output_type": "stream",
     "text": [
      "Weights loading from: ../weights/attention.25000.hdf5\n",
      "Loading models\n",
      "_________________________________________________________________\n",
      "Layer (type)                 Output Shape              Param #   \n",
      "=================================================================\n",
      "input_32 (InputLayer)        (None, 50)                0         \n",
      "_________________________________________________________________\n",
      "embed (Embedding)            (None, 50, 200)           400200    \n",
      "_________________________________________________________________\n",
      "bidirectional (Bidirectional (None, 50, 200)           240800    \n",
      "_________________________________________________________________\n",
      "att (AttentionWithContext)   [(None, 200), (None, 50)] 40400     \n",
      "_________________________________________________________________\n",
      "dropout_43 (Dropout)         (None, 200)               0         \n",
      "_________________________________________________________________\n",
      "dense_43 (Dense)             (None, 1)                 201       \n",
      "=================================================================\n",
      "Total params: 681,601\n",
      "Trainable params: 0\n",
      "Non-trainable params: 681,601\n",
      "_________________________________________________________________\n"
     ]
    }
   ],
   "source": [
    "weights_file = '../models/attention.25000.hdf5'\n",
    "print('Weights loading from:', weights_file)\n",
    "\n",
    "print('Loading models')\n",
    "att_model = get_model(50, vocab_size, trainable=False,\n",
    "                      embedding_trainable=False,\n",
    "                      return_attention=True)\n",
    "\n",
    "att_model.load_weights(weights_file, by_name=True)\n",
    "#pred_model.compile(optimizer='adam', loss='categorical_crossentropy')\n"
   ]
  },
  {
   "cell_type": "code",
   "execution_count": 286,
   "metadata": {
    "scrolled": false
   },
   "outputs": [
    {
     "name": "stdout",
     "output_type": "stream",
     "text": [
      "Sentence:  i think any such claim that mathematical physics VBZ large-scale tears in the fabric of NN definitely VBZ\n",
      "Attention: [  1.34777008e-06   1.58498995e-06   4.46763479e-05   3.07296985e-04\n",
      "   7.86230201e-04   4.24190424e-03   3.41895878e-01   5.79128206e-01\n",
      "   1.19928522e-02   1.00436890e-02   4.50237244e-02   1.52072206e-03\n",
      "   3.20734194e-04   3.25650978e-03   3.26481095e-04   5.29691388e-05\n",
      "   1.05519325e-03]\n",
      "Prediction: VBP\n",
      "Sentence:  the only key posts indians have not held VBP\n",
      "Attention: [ 0.00090677  0.0021646   0.00753049  0.36059043  0.55294591  0.03752809\n",
      "  0.00541357  0.03291249]\n",
      "Prediction: VBP\n",
      "Sentence:  other notable examples VBP\n",
      "Attention: [  6.70911628e-04   1.97903700e-02   9.79538679e-01]\n",
      "Prediction: VBP\n",
      "Sentence:  the eleven point river is a the river VBZ\n",
      "Attention: [ 0.01036568  0.00235224  0.08502441  0.01950658  0.0030029   0.87171394\n",
      "  0.00541001  0.00262405]\n",
      "Prediction: VBZ\n",
      "Sentence:  the rest VBZ\n",
      "Attention: [ 0.26385087  0.73614895]\n",
      "Prediction: VBZ\n",
      "Sentence:  a negative value VBZ\n",
      "Attention: [  9.98931527e-01   2.33250525e-04   8.35148967e-04]\n",
      "Prediction: VBZ\n",
      "Sentence:  i agree what you say about aboriginal people , but this article VBZ\n",
      "Attention: [  2.23668692e-08   2.17496190e-08   3.87405805e-08   2.31149535e-08\n",
      "   3.27753291e-08   6.35619131e-08   5.51309597e-07   7.21903707e-05\n",
      "   8.02315583e-08   6.64642403e-06   9.31519091e-01   6.84013143e-02]\n",
      "Prediction: VBZ\n",
      "Sentence:  the recent addition of the NNP ' command and client channel windows VBZ\n",
      "Attention: [  9.69141722e-04   3.16492445e-03   3.05178156e-03   3.09029128e-03\n",
      "   4.70744475e-04   4.64957586e-04   4.05680184e-04   5.89653850e-03\n",
      "   1.03894342e-03   1.20554660e-02   1.24212438e-02   9.56958473e-01]\n",
      "Prediction: VBP\n",
      "Sentence:  the town VBZ\n",
      "Attention: [ 0.17926972  0.82073015]\n",
      "Prediction: VBZ\n",
      "Sentence:  this category VBZ\n",
      "Attention: [  9.99711335e-01   2.88686599e-04]\n",
      "Prediction: VBZ\n"
     ]
    },
    {
     "data": {
      "image/png": "[encoded data removed]",
      "text/plain": [
       "<Figure size 720x72 with 1 Axes>"
      ]
     },
     "metadata": {},
     "output_type": "display_data"
    },
    {
     "data": {
      "image/png": "[encoded data removed]",
      "text/plain": [
       "<Figure size 720x72 with 1 Axes>"
      ]
     },
     "metadata": {},
     "output_type": "display_data"
    },
    {
     "data": {
      "image/png": "[encoded data removed]",
      "text/plain": [
       "<Figure size 720x72 with 1 Axes>"
      ]
     },
     "metadata": {},
     "output_type": "display_data"
    },
    {
     "data": {
      "image/png": "[encoded data removed]",
      "text/plain": [
       "<Figure size 720x72 with 1 Axes>"
      ]
     },
     "metadata": {},
     "output_type": "display_data"
    },
    {
     "data": {
      "image/png": "[encoded data removed]",
      "text/plain": [
       "<Figure size 720x72 with 1 Axes>"
      ]
     },
     "metadata": {},
     "output_type": "display_data"
    },
    {
     "data": {
      "image/png": "[encoded data removed]",
      "text/plain": [
       "<Figure size 720x72 with 1 Axes>"
      ]
     },
     "metadata": {},
     "output_type": "display_data"
    },
    {
     "data": {
      "image/png": "[encoded data removed]",
      "text/plain": [
       "<Figure size 720x72 with 1 Axes>"
      ]
     },
     "metadata": {},
     "output_type": "display_data"
    },
    {
     "data": {
      "image/png": "[encoded data removed]",
      "text/plain": [
       "<Figure size 720x72 with 1 Axes>"
      ]
     },
     "metadata": {},
     "output_type": "display_data"
    },
    {
     "data": {
      "image/png": "[encoded data removed]",
      "text/plain": [
       "<Figure size 720x72 with 1 Axes>"
      ]
     },
     "metadata": {},
     "output_type": "display_data"
    },
    {
     "data": {
      "image/png": "[encoded data removed]",
      "text/plain": [
       "<Figure size 720x72 with 1 Axes>"
      ]
     },
     "metadata": {},
     "output_type": "display_data"
    }
   ],
   "source": [
    "import matplotlib.pyplot as plt\n",
    "%matplotlib inline\n",
    "\n",
    "def visualize_attention(text, att_weights):\n",
    "    \n",
    "    activation_map = np.transpose(np.expand_dims(att_weights, axis=1))\n",
    "\n",
    "    #plt.clf()\n",
    "    f = plt.figure(figsize=(10, 1))\n",
    "    ax = f.add_subplot(1, 1, 1)\n",
    "\n",
    "    # add image\n",
    "    i = ax.imshow(activation_map, aspect='auto',\n",
    "                  interpolation='nearest', cmap='gray')\n",
    "\n",
    "    # add colorbar\n",
    "    #cbaxes = f.add_axes([0.2, 0.3, 0.6, 0.03])\n",
    "    cbar = f.colorbar(i, cax=cbaxes, orientation='horizontal')\n",
    "    cbar.ax.set_xlabel('Probability', labelpad=2)\n",
    "\n",
    "    # add labels\n",
    "    ax.set_ylim(0,.1)\n",
    "    ax.set_xlim(0,1)\n",
    "    ax.set_yticks([], [])\n",
    "    #ax.set_yticks(range(output_length))\n",
    "    #ax.set_yticklabels(predicted_text[:output_length])\n",
    "\n",
    "    ax.set_xticks(range(len(text)))\n",
    "    ax.set_xticklabels(text)\n",
    "\n",
    "    #_ = ax.set_xlabel('Sentence')\n",
    "\n",
    "    # add grid and legend\n",
    "    #ax.grid()\n",
    "    # ax.legend(loc='best')\n",
    "\n",
    "    #f.savefig(os.path.join(HERE, 'attention_maps', text.replace('/', '')+'.pdf'), bbox_inches='tight')\n",
    "    #f.show()\n",
    "\n",
    "\n",
    "np.random.seed(7)\n",
    "samples = np.random.choice(x_test.shape[0], 10)\n",
    "for i in samples:\n",
    "    pred, att = att_model.predict(np.expand_dims(x_test[i], axis=0))\n",
    "    pred_str = 'VBP' if pred.ravel()[0] < .5 else 'VBZ'\n",
    "    \n",
    "    text = data_test[i][1:]\n",
    "    text_length = len(text)\n",
    "    att = att[0,-text_length:].ravel()\n",
    "    \n",
    "    print('Sentence: ', *[w for w in text], data_test[i][0])\n",
    "    print('Attention:', att)\n",
    "    print('Prediction:', pred_str)\n",
    "    \n",
    "    visualize_attention(text, att)"
   ]
  },
  {
   "cell_type": "code",
   "execution_count": 215,
   "metadata": {},
   "outputs": [
    {
     "name": "stdout",
     "output_type": "stream",
     "text": [
      "4000/4000 [==============================] - 6s 2ms/step\n"
     ]
    },
    {
     "data": {
      "text/plain": [
       "[0.1774557400556514, 0.92900000000000005]"
      ]
     },
     "execution_count": 215,
     "metadata": {},
     "output_type": "execute_result"
    }
   ],
   "source": [
    "score = model.evaluate(x_test, y_test, batch_size=16)\n",
    "score"
   ]
  }
 ],
 "metadata": {
  "kernelspec": {
   "display_name": "Python [conda env:nlu]",
   "language": "python",
   "name": "conda-env-nlu-py"
  },
  "language_info": {
   "codemirror_mode": {
    "name": "ipython",
    "version": 3
   },
   "file_extension": ".py",
   "mimetype": "text/x-python",
   "name": "python",
   "nbconvert_exporter": "python",
   "pygments_lexer": "ipython3",
   "version": "3.6.4"
  }
 },
 "nbformat": 4,
 "nbformat_minor": 2
}
