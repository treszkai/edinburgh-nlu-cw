{
 "cells": [
  {
   "cell_type": "code",
   "execution_count": 12,
   "metadata": {},
   "outputs": [],
   "source": [
    "import matplotlib.pyplot as plt"
   ]
  },
  {
   "cell_type": "code",
   "execution_count": 13,
   "metadata": {},
   "outputs": [],
   "source": [
    "import numpy as np"
   ]
  },
  {
   "cell_type": "code",
   "execution_count": 14,
   "metadata": {},
   "outputs": [],
   "source": [
    "def load_whole_dataset(fname, sep='\\t'):\n",
    "    data = []\n",
    "    cnt = 0\n",
    "    with open(fname) as f:\n",
    "        for line in f:\n",
    "            items = line.strip().split(sep)\n",
    "            if cnt == 0:\n",
    "                keys = items\n",
    "                cnt += 1\n",
    "                continue\n",
    "            data.append(items)\n",
    "    return data, keys"
   ]
  },
  {
   "cell_type": "code",
   "execution_count": 15,
   "metadata": {},
   "outputs": [],
   "source": [
    "def plot_diff_hist(data):\n",
    "    subj_idxs = [int(x[1]) for x in data]\n",
    "\n",
    "    verb_idxs = [int(x[2]) for x in data]\n",
    "\n",
    "    diff = [verb_idx - subj_idx\n",
    "            for verb_idx, subj_idx in zip(verb_idxs, subj_idxs)]\n",
    "\n",
    "    plt.xticks(range(41), ['' if x % 5 else x for x in range(41)])\n",
    "    plt.hist(diff, bins=20, align='left', range=(0,20), normed=True, rwidth=0.5)\n",
    "    plt.show()"
   ]
  },
  {
   "cell_type": "code",
   "execution_count": 16,
   "metadata": {},
   "outputs": [],
   "source": [
    "def plot_diff_hist(data):\n",
    "#     verb_poss = [x[3] for x in data]\n",
    "    diff = [None, None]\n",
    "    for i,verb_pos in enumerate(['VBZ', 'VBP']):\n",
    "        subj_idxs = [int(x[1]) for x in data if x[3] == verb_pos]\n",
    "        verb_idxs = [int(x[2]) for x in data if x[3] == verb_pos]\n",
    "\n",
    "        diff[i] = [verb_idx - subj_idx\n",
    "                for verb_idx, subj_idx in zip(verb_idxs, subj_idxs)]\n",
    "\n",
    "    plt.xticks(range(41), ['' if x % 5 else x for x in range(41)])\n",
    "    plt.hist(diff, bins=20, align='left', range=(0,20), rwidth=0.8)\n",
    "    plt.show()"
   ]
  },
  {
   "cell_type": "code",
   "execution_count": 17,
   "metadata": {},
   "outputs": [],
   "source": [
    "fname = 'data/wiki-train.txt'"
   ]
  },
  {
   "cell_type": "code",
   "execution_count": 18,
   "metadata": {},
   "outputs": [],
   "source": [
    "data_train, keys = load_whole_dataset(fname)"
   ]
  },
  {
   "cell_type": "code",
   "execution_count": 19,
   "metadata": {},
   "outputs": [
    {
     "data": {
      "text/plain": [
       "'VBZ'"
      ]
     },
     "execution_count": 19,
     "metadata": {},
     "output_type": "execute_result"
    }
   ],
   "source": [
    "data_train[0][3]"
   ]
  },
  {
   "cell_type": "code",
   "execution_count": 20,
   "metadata": {},
   "outputs": [
    {
     "data": {
      "text/plain": [
       "['sentence', 'subj_idx', 'verb_idx', 'verb_pos', 'verb', 'inflected_verb']"
      ]
     },
     "execution_count": 20,
     "metadata": {},
     "output_type": "execute_result"
    }
   ],
   "source": [
    "keys"
   ]
  },
  {
   "cell_type": "code",
   "execution_count": 21,
   "metadata": {},
   "outputs": [
    {
     "data": {
      "image/png": "[encoded data removed]",
      "text/plain": [
       "<matplotlib.figure.Figure at 0x112cb12b0>"
      ]
     },
     "metadata": {},
     "output_type": "display_data"
    }
   ],
   "source": [
    "plot_diff_hist(data_train) "
   ]
  },
  {
   "cell_type": "code",
   "execution_count": 22,
   "metadata": {},
   "outputs": [],
   "source": [
    "fname = 'data/wiki-dev.txt'"
   ]
  },
  {
   "cell_type": "code",
   "execution_count": 23,
   "metadata": {},
   "outputs": [],
   "source": [
    "data_dev, keys = load_whole_dataset(fname)"
   ]
  },
  {
   "cell_type": "code",
   "execution_count": 24,
   "metadata": {},
   "outputs": [
    {
     "data": {
      "image/png": "[encoded data removed]",
      "text/plain": [
       "<matplotlib.figure.Figure at 0x111425fd0>"
      ]
     },
     "metadata": {},
     "output_type": "display_data"
    }
   ],
   "source": [
    "plot_diff_hist(data_dev)"
   ]
  },
  {
   "cell_type": "code",
   "execution_count": 38,
   "metadata": {},
   "outputs": [
    {
     "data": {
      "text/plain": [
       "341"
      ]
     },
     "execution_count": 38,
     "metadata": {},
     "output_type": "execute_result"
    }
   ],
   "source": [
    "sum(x[3] == 'VBP' for x in data_dev)"
   ]
  },
  {
   "cell_type": "markdown",
   "metadata": {},
   "source": [
    "# Q2a"
   ]
  },
  {
   "cell_type": "code",
   "execution_count": 25,
   "metadata": {},
   "outputs": [],
   "source": [
    "q2a_data, q2a_keys = load_whole_dataset('question2a.csv',sep=',')"
   ]
  },
  {
   "cell_type": "code",
   "execution_count": 26,
   "metadata": {},
   "outputs": [
    {
     "data": {
      "text/plain": [
       "['', 'hdim', 'lookback', 'loss', 'loss_adjusted', 'lr', 'seed']"
      ]
     },
     "execution_count": 26,
     "metadata": {},
     "output_type": "execute_result"
    }
   ],
   "source": [
    "q2a_keys"
   ]
  },
  {
   "cell_type": "code",
   "execution_count": 27,
   "metadata": {},
   "outputs": [
    {
     "data": {
      "text/plain": [
       "[[1, 2, 3], [1, 2, 3]]"
      ]
     },
     "execution_count": 27,
     "metadata": {},
     "output_type": "execute_result"
    }
   ],
   "source": [
    "l = []\n",
    "l.append([1,2,3])\n",
    "l.append([1,2,3])\n",
    "l"
   ]
  },
  {
   "cell_type": "code",
   "execution_count": 28,
   "metadata": {},
   "outputs": [
    {
     "data": {
      "text/plain": [
       "[([1, 2, 3], 'a'), ([1, 2, 3], 'b')]"
      ]
     },
     "execution_count": 28,
     "metadata": {},
     "output_type": "execute_result"
    }
   ],
   "source": [
    "[*zip(l, 'ab')]"
   ]
  },
  {
   "cell_type": "code",
   "execution_count": 29,
   "metadata": {},
   "outputs": [],
   "source": [
    "#plt.rcParams['figure.figsize'] = (8,6)"
   ]
  },
  {
   "cell_type": "code",
   "execution_count": 35,
   "metadata": {},
   "outputs": [
    {
     "data": {
      "image/png": "[encoded data removed]",
      "text/plain": [
       "<matplotlib.figure.Figure at 0x11151c1d0>"
      ]
     },
     "metadata": {},
     "output_type": "display_data"
    }
   ],
   "source": [
    "def plot_hyper_losses(data):\n",
    "#     loss, xx, markers = [], [], []\n",
    "    for hdim,shape in zip(['15', '25', '50', '100'], '_'):\n",
    "        for lookback,size in zip(['0', '2', '5'], [10,16,25]): \n",
    "            filtered = filter(lambda x: x[1]==hdim and x[2]==lookback, data)\n",
    "#             print(list(filtered))\n",
    "#             loss.append([float(x[4]) for x in filtered])\n",
    "#             xx.append([float(x[-2]) for x in filtered])\n",
    "            loss = ([float(x[4]) for x in filtered])\n",
    "            filtered = filter(lambda x: x[1]==hdim and x[2]==lookback, data)\n",
    "\n",
    "\n",
    "            xx = ([float(x[-2]) for x in filtered])\n",
    "\n",
    "#             print(len(xx), len(loss))\n",
    "            plt.plot(xx, loss, shape, markersize=size, color='steelblue', alpha=0.8, mew=2)\n",
    "    plt.grid(True)\n",
    "    plt.xticks(np.arange(0.1, 1.01, 0.1))\n",
    "#     plt.xscale('log')\n",
    "    plt.show()\n",
    "    \n",
    "plot_hyper_losses(q2a_data)"
   ]
  },
  {
   "cell_type": "markdown",
   "metadata": {},
   "source": [
    "# Learning curve"
   ]
  },
  {
   "cell_type": "code",
   "execution_count": 4,
   "metadata": {},
   "outputs": [],
   "source": [
    "losses = [4.842770055743925,\n",
    "4.842541666671183,\n",
    "4.633576436967772,\n",
    "4.565889004763209,\n",
    "4.527051928218304,\n",
    "4.49880908158899,\n",
    "4.478114420169029,\n",
    "4.44768033856668,\n",
    "4.416948812533783,\n",
    "4.419089115408261,\n",
    "4.397512946688464,\n",
    "4.380179328707286,\n",
    "4.385566042685086,\n",
    "4.364213091289827,\n",
    "4.354823694260496,\n",
    "4.376612136526675,\n",
    "4.339827835175527,\n",
    "4.343092329441356,\n",
    "4.337589856894631,\n",
    "4.328309673471001,\n",
    "4.326579464475598,\n",
    "4.314411950537779,\n",
    "4.331580414917071,\n",
    "4.3058197101301,\n",
    "4.2978949865108955,\n",
    "4.295472948889735,\n",
    "4.306594276271279,\n",
    "4.2936431059027775,\n",
    "4.2826047139646,\n",
    "4.278127926970142,\n",
    "4.281363067736914,\n",
    "4.273823644591111,\n",
    "4.314112179135553,\n",
    "4.26755103334105,\n",
    "4.272810068910643,\n",
    "4.276821712554971,\n",
    "4.261488655099078,\n",
    "4.2670372380817,\n",
    "4.261839919425519,\n",
    "4.255654250752828]"
   ]
  },
  {
   "cell_type": "code",
   "execution_count": 40,
   "metadata": {},
   "outputs": [
    {
     "data": {
      "image/png": "[encoded data removed]",
      "text/plain": [
       "<matplotlib.figure.Figure at 0x116f92a20>"
      ]
     },
     "metadata": {},
     "output_type": "display_data"
    }
   ],
   "source": [
    "plt.plot(np.arange(1,41), losses)\n",
    "plt.grid()\n",
    "plt.xlim(1,40)\n",
    "plt.tight_layout()\n",
    "plt.savefig(\"q2b_losses.pdf\")\n",
    "plt.show()\n",
    "\n"
   ]
  }
 ],
 "metadata": {
  "kernelspec": {
   "display_name": "Python 3",
   "language": "python",
   "name": "python3"
  },
  "language_info": {
   "codemirror_mode": {
    "name": "ipython",
    "version": 3
   },
   "file_extension": ".py",
   "mimetype": "text/x-python",
   "name": "python",
   "nbconvert_exporter": "python",
   "pygments_lexer": "ipython3",
   "version": "3.6.3"
  },
  "varInspector": {
   "cols": {
    "lenName": 16,
    "lenType": 16,
    "lenVar": 40
   },
   "kernels_config": {
    "python": {
     "delete_cmd_postfix": "",
     "delete_cmd_prefix": "del ",
     "library": "var_list.py",
     "varRefreshCmd": "print(var_dic_list())"
    },
    "r": {
     "delete_cmd_postfix": ") ",
     "delete_cmd_prefix": "rm(",
     "library": "var_list.r",
     "varRefreshCmd": "cat(var_dic_list()) "
    }
   },
   "types_to_exclude": [
    "module",
    "function",
    "builtin_function_or_method",
    "instance",
    "_Feature"
   ],
   "window_display": false
  }
 },
 "nbformat": 4,
 "nbformat_minor": 2
}
